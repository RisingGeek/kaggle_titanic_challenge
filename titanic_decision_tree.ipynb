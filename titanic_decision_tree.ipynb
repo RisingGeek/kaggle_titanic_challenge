{
 "cells": [
  {
   "cell_type": "code",
   "execution_count": 1,
   "metadata": {},
   "outputs": [],
   "source": [
    "import pandas as pd\n",
    "import numpy as np"
   ]
  },
  {
   "cell_type": "code",
   "execution_count": 136,
   "metadata": {},
   "outputs": [],
   "source": [
    "data = pd.read_csv('train.csv')\n",
    "test = pd.read_csv('test.csv')"
   ]
  },
  {
   "cell_type": "markdown",
   "metadata": {},
   "source": [
    "### Drop columns which are of no use"
   ]
  },
  {
   "cell_type": "code",
   "execution_count": 137,
   "metadata": {},
   "outputs": [],
   "source": [
    "columns_to_drop = [\"PassengerId\", \"Name\",\"Ticket\",\"Cabin\",\"Embarked\"]\n",
    "test_columns_to_drop = [\"Name\",\"Ticket\",\"Cabin\",\"Embarked\"]\n",
    "data_clean = data.drop(columns_to_drop, axis=1)\n",
    "test_clean = test.drop(test_columns_to_drop, axis=1)"
   ]
  },
  {
   "cell_type": "markdown",
   "metadata": {},
   "source": [
    "### Encode categorical data"
   ]
  },
  {
   "cell_type": "code",
   "execution_count": 138,
   "metadata": {},
   "outputs": [],
   "source": [
    "from sklearn.preprocessing import LabelEncoder\n",
    "\n",
    "le = LabelEncoder()\n",
    "data_clean[\"Sex\"] = le.fit_transform(data_clean[\"Sex\"])\n",
    "test_clean[\"Sex\"] = le.transform(test_clean[\"Sex\"])"
   ]
  },
  {
   "cell_type": "markdown",
   "metadata": {},
   "source": [
    "### Handle missing data"
   ]
  },
  {
   "cell_type": "code",
   "execution_count": 5,
   "metadata": {},
   "outputs": [],
   "source": [
    "data_clean = data_clean.fillna(value=data_clean[\"Age\"].mean())"
   ]
  },
  {
   "cell_type": "markdown",
   "metadata": {},
   "source": [
    "### Calculate entropy of a column\n",
    "Entropy is the measure of randomness."
   ]
  },
  {
   "cell_type": "code",
   "execution_count": 7,
   "metadata": {},
   "outputs": [],
   "source": [
    "def get_entropy(col):\n",
    "    \"\"\"Entropy is calculated as the summation of negative of probability of each unique item in column multiplied by log of probability\n",
    "       Parameters\n",
    "       ----------\n",
    "       col : numpy array\n",
    "    \"\"\"\n",
    "    unique_cols = np.unique(col, return_counts=True)\n",
    "    n = col.shape[0]\n",
    "    entropy = 0\n",
    "    for frequency in unique_cols[1]:\n",
    "        probability = frequency/n\n",
    "        entropy += -probability*np.log2(probability)\n",
    "    return entropy"
   ]
  },
  {
   "cell_type": "markdown",
   "metadata": {},
   "source": [
    "### Divide data in decision tree"
   ]
  },
  {
   "cell_type": "code",
   "execution_count": 8,
   "metadata": {},
   "outputs": [],
   "source": [
    "def divide_data(x_data, key, threshold):\n",
    "    x_left = pd.DataFrame([], columns=x_data.columns)\n",
    "    x_right = pd.DataFrame([], columns=x_data.columns)\n",
    "    \n",
    "    for i in range(x_data.shape[0]):\n",
    "        val = x_data[key].loc[i]\n",
    "        if val < threshold:\n",
    "            x_left = x_left.append(x_data.loc[i])\n",
    "        else:\n",
    "            x_right = x_right.append(x_data.loc[i])\n",
    "    return x_left, x_right"
   ]
  },
  {
   "cell_type": "markdown",
   "metadata": {},
   "source": [
    "### Calculate Information Gain"
   ]
  },
  {
   "cell_type": "code",
   "execution_count": 65,
   "metadata": {},
   "outputs": [],
   "source": [
    "def get_information_gain(x_data, key, threshold):\n",
    "    left_data, right_data = divide_data(x_data, key, threshold)\n",
    "    \n",
    "    if(left_data.shape[0]==0 or right_data.shape[0]==0):\n",
    "        return -1000\n",
    "    \n",
    "    l = left_data.shape[0]/x_data.shape[0]\n",
    "    r = right_data.shape[0]/x_data.shape[0]\n",
    "    information_gain = get_entropy(x_data[\"Survived\"]) - l*get_entropy(left_data[\"Survived\"]) - r*get_entropy(right_data[\"Survived\"])\n",
    "    return information_gain"
   ]
  },
  {
   "cell_type": "markdown",
   "metadata": {},
   "source": [
    "### Decision Tree class"
   ]
  },
  {
   "cell_type": "code",
   "execution_count": 145,
   "metadata": {},
   "outputs": [],
   "source": [
    "class DecisionTree:\n",
    "    def __init__(self, depth=0, max_depth=5):\n",
    "        self.left = None\n",
    "        self.right = None\n",
    "        self.key = None\n",
    "        self.threshold = None\n",
    "        self.depth = depth\n",
    "        self.max_depth = max_depth\n",
    "        self.target = None\n",
    "    \n",
    "    def fit(self, x_train, y_train):\n",
    "        features = x_train.columns\n",
    "        combined_list = x_train.join(y_train)\n",
    "        info_gains= []\n",
    "        for col in features:\n",
    "            information_gain = get_information_gain(combined_list, col, x_train[col].mean())\n",
    "            info_gains.append(information_gain)\n",
    "        self.key = features[np.argmax(info_gains)]\n",
    "        self.threshold = x_train[self.key].mean()\n",
    "        print(\"divide tree along \"+self.key)\n",
    "        \n",
    "        left_data, right_data = divide_data(combined_list, self.key, self.threshold)\n",
    "        left_data.reset_index(drop=True, inplace=True)\n",
    "        right_data.reset_index(drop=True, inplace=True)\n",
    "        \n",
    "        if left_data.shape[0]==0 or right_data.shape[0]==0 or self.depth > self.max_depth:\n",
    "            if combined_list[\"Survived\"].mean() >= 0.5:\n",
    "                self.target=1\n",
    "            else:\n",
    "                self.target=0\n",
    "            return\n",
    "        \n",
    "        self.left = DecisionTree(depth = self.depth+1)\n",
    "        self.left.fit(left_data.drop([\"Survived\"], axis=True), left_data[\"Survived\"])\n",
    "        \n",
    "        self.right = DecisionTree(depth=self.depth+1)\n",
    "        self.right.fit(right_data.drop([\"Survived\"], axis=True), right_data[\"Survived\"])\n",
    "        \n",
    "    def predict_row_output(self, test):\n",
    "        if test[self.key] < self.threshold:\n",
    "            if self.left is None:\n",
    "                return self.target\n",
    "            return self.left.predict(test)\n",
    "        else:\n",
    "            if self.right is None:\n",
    "                return self.target\n",
    "            return self.right.predict(test)\n",
    "    \n",
    "    def predict(self, test, passengerIds):\n",
    "        y_preds=[]\n",
    "        for i in range(test.shape[0]):\n",
    "            y_preds.append({\"PassengerId\": passenger_ids[i], \"Survived\": dt.predict_row_output(test.loc[i])})\n",
    "        predictions = pd.DataFrame(y_preds)\n",
    "        return predictions"
   ]
  },
  {
   "cell_type": "code",
   "execution_count": null,
   "metadata": {},
   "outputs": [
    {
     "name": "stdout",
     "output_type": "stream",
     "text": [
      "divide tree along Sex\n",
      "divide tree along Pclass\n",
      "divide tree along Pclass\n",
      "divide tree along Parch\n",
      "divide tree along Age\n",
      "divide tree along Age\n",
      "divide tree along Age\n",
      "divide tree along Age\n",
      "divide tree along SibSp\n",
      "divide tree along Age\n",
      "divide tree along Age\n",
      "divide tree along Parch\n",
      "divide tree along Age\n",
      "divide tree along Age\n",
      "divide tree along Age\n",
      "divide tree along Fare\n",
      "divide tree along SibSp\n",
      "divide tree along Age\n",
      "divide tree along Parch\n",
      "divide tree along Age\n",
      "divide tree along Age\n",
      "divide tree along Age\n",
      "divide tree along Fare\n",
      "divide tree along SibSp\n",
      "divide tree along Fare\n",
      "divide tree along Age\n",
      "divide tree along Age\n",
      "divide tree along Age\n",
      "divide tree along Age\n",
      "divide tree along Age\n",
      "divide tree along Age\n",
      "divide tree along Age\n",
      "divide tree along Age\n",
      "divide tree along Fare\n",
      "divide tree along SibSp\n",
      "divide tree along Age\n",
      "divide tree along Fare\n",
      "divide tree along Fare\n",
      "divide tree along Age\n",
      "divide tree along Parch\n",
      "divide tree along Age\n",
      "divide tree along Age\n",
      "divide tree along SibSp\n",
      "divide tree along Parch\n",
      "divide tree along Fare\n",
      "divide tree along Age\n",
      "divide tree along Age\n",
      "divide tree along Pclass\n",
      "divide tree along Pclass\n",
      "divide tree along SibSp\n",
      "divide tree along Fare\n",
      "divide tree along Parch\n",
      "divide tree along Parch\n",
      "divide tree along SibSp\n",
      "divide tree along Parch\n",
      "divide tree along Age\n",
      "divide tree along Age\n",
      "divide tree along Age\n",
      "divide tree along Age\n",
      "divide tree along Age\n",
      "divide tree along Age\n",
      "divide tree along Age\n",
      "divide tree along Age\n",
      "divide tree along Age\n",
      "divide tree along Fare\n",
      "divide tree along Parch\n"
     ]
    }
   ],
   "source": [
    "x_train = data_clean.drop([\"Survived\"], axis=1)\n",
    "y_train = pd.DataFrame(data_clean[\"Survived\"])\n",
    "\n",
    "dt = DecisionTree()\n",
    "dt.fit(x_train, y_train)"
   ]
  },
  {
   "cell_type": "code",
   "execution_count": 141,
   "metadata": {},
   "outputs": [],
   "source": [
    "x_test = test_clean.drop([\"PassengerId\"], axis=1)\n",
    "passenger_ids = test_clean[\"PassengerId\"]\n",
    "dt.predict(x_test, passenger_ids)\n",
    "predictions.to_csv('output.csv', index=False)"
   ]
  },
  {
   "cell_type": "code",
   "execution_count": 143,
   "metadata": {},
   "outputs": [
    {
     "data": {
      "text/html": [
       "<div>\n",
       "<style scoped>\n",
       "    .dataframe tbody tr th:only-of-type {\n",
       "        vertical-align: middle;\n",
       "    }\n",
       "\n",
       "    .dataframe tbody tr th {\n",
       "        vertical-align: top;\n",
       "    }\n",
       "\n",
       "    .dataframe thead th {\n",
       "        text-align: right;\n",
       "    }\n",
       "</style>\n",
       "<table border=\"1\" class=\"dataframe\">\n",
       "  <thead>\n",
       "    <tr style=\"text-align: right;\">\n",
       "      <th></th>\n",
       "      <th>PassengerId</th>\n",
       "      <th>Survived</th>\n",
       "    </tr>\n",
       "  </thead>\n",
       "  <tbody>\n",
       "    <tr>\n",
       "      <th>0</th>\n",
       "      <td>892</td>\n",
       "      <td>0</td>\n",
       "    </tr>\n",
       "    <tr>\n",
       "      <th>1</th>\n",
       "      <td>893</td>\n",
       "      <td>1</td>\n",
       "    </tr>\n",
       "    <tr>\n",
       "      <th>2</th>\n",
       "      <td>894</td>\n",
       "      <td>0</td>\n",
       "    </tr>\n",
       "    <tr>\n",
       "      <th>3</th>\n",
       "      <td>895</td>\n",
       "      <td>0</td>\n",
       "    </tr>\n",
       "    <tr>\n",
       "      <th>4</th>\n",
       "      <td>896</td>\n",
       "      <td>0</td>\n",
       "    </tr>\n",
       "  </tbody>\n",
       "</table>\n",
       "</div>"
      ],
      "text/plain": [
       "   PassengerId  Survived\n",
       "0          892         0\n",
       "1          893         1\n",
       "2          894         0\n",
       "3          895         0\n",
       "4          896         0"
      ]
     },
     "execution_count": 143,
     "metadata": {},
     "output_type": "execute_result"
    }
   ],
   "source": [
    "predictions.head()"
   ]
  },
  {
   "cell_type": "code",
   "execution_count": null,
   "metadata": {},
   "outputs": [],
   "source": []
  }
 ],
 "metadata": {
  "kernelspec": {
   "display_name": "Python 3",
   "language": "python",
   "name": "python3"
  },
  "language_info": {
   "codemirror_mode": {
    "name": "ipython",
    "version": 3
   },
   "file_extension": ".py",
   "mimetype": "text/x-python",
   "name": "python",
   "nbconvert_exporter": "python",
   "pygments_lexer": "ipython3",
   "version": "3.6.8"
  }
 },
 "nbformat": 4,
 "nbformat_minor": 2
}
